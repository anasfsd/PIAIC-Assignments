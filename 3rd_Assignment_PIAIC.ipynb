{
  "nbformat": 4,
  "nbformat_minor": 0,
  "metadata": {
    "colab": {
      "provenance": []
    },
    "kernelspec": {
      "name": "python3",
      "display_name": "Python 3"
    },
    "language_info": {
      "name": "python"
    }
  },
  "cells": [
    {
      "cell_type": "code",
      "execution_count": null,
      "metadata": {
        "colab": {
          "base_uri": "https://localhost:8080/"
        },
        "id": "ej4AnP28ow-X",
        "outputId": "6e97cb82-ec6f-489b-9efb-80fa5252d489"
      },
      "outputs": [
        {
          "output_type": "stream",
          "name": "stdout",
          "text": [
            "Positive numbers: [0, 5, 10]\n"
          ]
        }
      ],
      "source": [
        "anas_alii = [-10, -5, 0, 5, 10]\n",
        "positive_numbers = list(filter(lambda x: x >= 0, anas_alii))\n",
        "print(\"Positive numbers:\", positive_numbers)"
      ]
    },
    {
      "cell_type": "code",
      "source": [
        "anas_alii = [1, 2, 3, 4, 5]\n",
        "doubled_numbers = list(map(lambda x: x * 2, anas_alii))\n",
        "print(\"Doubled numbers:\", doubled_numbers)\n"
      ],
      "metadata": {
        "colab": {
          "base_uri": "https://localhost:8080/"
        },
        "id": "1hLqMnQUo5vr",
        "outputId": "1f943459-2b17-43dd-8313-bd6b15b82180"
      },
      "execution_count": null,
      "outputs": [
        {
          "output_type": "stream",
          "name": "stdout",
          "text": [
            "Doubled numbers: [2, 4, 6, 8, 10]\n"
          ]
        }
      ]
    },
    {
      "cell_type": "code",
      "source": [
        "anas_alii = [\"apple\", \"banana\", \"cherry\", \"date\", \"grape\"]\n",
        "long_fruits = list(filter(lambda x: len(x) > 5, anas_alii))\n",
        "print(\"Fruits with more than 5 characters:\", long_fruits)"
      ],
      "metadata": {
        "colab": {
          "base_uri": "https://localhost:8080/"
        },
        "id": "LHIwtc6vo-t8",
        "outputId": "75cc4494-1f3a-468d-e4e3-1016943b62eb"
      },
      "execution_count": null,
      "outputs": [
        {
          "output_type": "stream",
          "name": "stdout",
          "text": [
            "Fruits with more than 5 characters: ['banana', 'cherry']\n"
          ]
        }
      ]
    },
    {
      "cell_type": "code",
      "source": [
        "anas_alii = [1, 2, 3, 4, 5, 6, 7, 8, 9, 10]\n",
        "squared_evens = list(map(lambda x: x ** 2, filter(lambda x: x % 2 == 0, anas_alii)))\n",
        "print(\"Squares of even numbers:\", squared_evens)"
      ],
      "metadata": {
        "colab": {
          "base_uri": "https://localhost:8080/"
        },
        "id": "hHdhQuvfo_RM",
        "outputId": "227efa88-09d0-403c-f657-e912b8cbf3c0"
      },
      "execution_count": null,
      "outputs": [
        {
          "output_type": "stream",
          "name": "stdout",
          "text": [
            "Squares of even numbers: [4, 16, 36, 64, 100]\n"
          ]
        }
      ]
    },
    {
      "cell_type": "code",
      "source": [
        "anas_alii = [0, 10, 20, 30, 40]\n",
        "temperatures_in_fahrenheit = list(map(lambda c: (c * 9 / 5) + 32, anas_alii))\n",
        "print(\"Temperatures in Fahrenheit:\", temperatures_in_fahrenheit)\n"
      ],
      "metadata": {
        "colab": {
          "base_uri": "https://localhost:8080/"
        },
        "id": "XoUZ1_54pBN3",
        "outputId": "8e079a5b-431d-458d-df89-1365aa394b5e"
      },
      "execution_count": null,
      "outputs": [
        {
          "output_type": "stream",
          "name": "stdout",
          "text": [
            "Temperatures in Fahrenheit: [32.0, 50.0, 68.0, 86.0, 104.0]\n"
          ]
        }
      ]
    },
    {
      "cell_type": "code",
      "source": [
        "anas_alii = [3, 6, 9, 12, 15, 18]\n",
        "doubled_odds = list(map(lambda x: x * 2, filter(lambda x: x % 2 != 0, anas_alii)))\n",
        "print(\"Doubled values of odd numbers:\", doubled_odds)"
      ],
      "metadata": {
        "colab": {
          "base_uri": "https://localhost:8080/"
        },
        "id": "0AZHMOa8pC1w",
        "outputId": "567ee6df-7e4e-4240-d9a3-0d3ee00dc786"
      },
      "execution_count": null,
      "outputs": [
        {
          "output_type": "stream",
          "name": "stdout",
          "text": [
            "Doubled values of odd numbers: [6, 18, 30]\n"
          ]
        }
      ]
    },
    {
      "cell_type": "code",
      "source": [
        "anas_alii = [\"Alice\", \"Bob\", \"Charlie\", \"David\", \"Emily\"]\n",
        "list(map(lambda name: print(f\"{name}!\"), anas_alii))"
      ],
      "metadata": {
        "colab": {
          "base_uri": "https://localhost:8080/"
        },
        "id": "_pJHN7C4pExb",
        "outputId": "2e5289c0-a5c0-45cd-817f-52f8b906c861"
      },
      "execution_count": null,
      "outputs": [
        {
          "output_type": "stream",
          "name": "stdout",
          "text": [
            "Alice!\n",
            "Bob!\n",
            "Charlie!\n",
            "David!\n",
            "Emily!\n"
          ]
        },
        {
          "output_type": "execute_result",
          "data": {
            "text/plain": [
              "[None, None, None, None, None]"
            ]
          },
          "metadata": {},
          "execution_count": 7
        }
      ]
    },
    {
      "cell_type": "code",
      "source": [],
      "metadata": {
        "id": "m80_24gwpGMC"
      },
      "execution_count": null,
      "outputs": []
    }
  ]
}