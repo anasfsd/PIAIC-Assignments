{
  "nbformat": 4,
  "nbformat_minor": 0,
  "metadata": {
    "colab": {
      "provenance": []
    },
    "kernelspec": {
      "name": "python3",
      "display_name": "Python 3"
    },
    "language_info": {
      "name": "python"
    }
  },
  "cells": [
    {
      "cell_type": "code",
      "source": [
        "def even_or_odd(num):\n",
        "    if num % 2 == 0:\n",
        "        print(f\"{num} is Even\")\n",
        "    else:\n",
        "        print(f\"{num} is Odd\")\n",
        "num = int(input(\"Enter a number: \"))\n",
        "even_or_odd(num)"
      ],
      "metadata": {
        "colab": {
          "base_uri": "https://localhost:8080/"
        },
        "id": "_E5ZEeqsZFP5",
        "outputId": "ae8ce8a0-67dc-4ccf-ac30-e9b51f5ae853"
      },
      "execution_count": 21,
      "outputs": [
        {
          "output_type": "stream",
          "name": "stdout",
          "text": [
            "Enter a number: 13\n",
            "13 is Odd\n"
          ]
        }
      ]
    },
    {
      "cell_type": "code",
      "source": [
        "def positive_negative_zero(num):\n",
        "    if num > 0:\n",
        "        print(f\"{num} is Positive\")\n",
        "    elif num < 0:\n",
        "        print(f\"{num} is Negative\")\n",
        "    else:\n",
        "        print(f\"{num} is Zero\")\n",
        "num = int(input(\"Enter a number: \"))\n",
        "positive_negative_zero(num)"
      ],
      "metadata": {
        "colab": {
          "base_uri": "https://localhost:8080/"
        },
        "id": "7u84L5edZGDK",
        "outputId": "e65ae6b1-4b7f-414c-d7da-ff79df2ff558"
      },
      "execution_count": 23,
      "outputs": [
        {
          "output_type": "stream",
          "name": "stdout",
          "text": [
            "Enter a number: 2\n",
            "2 is Positive\n"
          ]
        }
      ]
    },
    {
      "cell_type": "code",
      "source": [
        "def divisibility_check(num):\n",
        "    if num % 2 == 0 and num % 3 == 0:\n",
        "        print(f\"{num} is divisible by both 2 and 3.\")\n",
        "    elif num % 2 == 0:\n",
        "        print(f\"{num} is divisible by 2.\")\n",
        "    elif num % 3 == 0:\n",
        "        print(f\"{num} is divisible by 3.\")\n",
        "    else:\n",
        "        print(f\"{num} is not divisible by 2 or 3.\")\n",
        "num = int(input(\"Enter a number: \"))\n",
        "divisibility_check(num)"
      ],
      "metadata": {
        "colab": {
          "base_uri": "https://localhost:8080/"
        },
        "id": "cFcUbj8jZGLf",
        "outputId": "7e40cc0d-581a-493d-e4b4-127ed550b1e1"
      },
      "execution_count": 25,
      "outputs": [
        {
          "output_type": "stream",
          "name": "stdout",
          "text": [
            "Enter a number: 12\n",
            "12 is divisible by both 2 and 3.\n"
          ]
        }
      ]
    },
    {
      "cell_type": "code",
      "source": [
        "def voting_eligibility():\n",
        "    age = int(input(\"Enter your age: \"))\n",
        "    if age >= 18:\n",
        "        nationality = input(\"Do you have Pakistani nationality? (yes/no): \").strip().lower()\n",
        "        if nationality == \"yes\":\n",
        "            print(\"You are eligible to vote.\")\n",
        "        else:\n",
        "            print(\"Please obtain a valid ID to vote.\")\n",
        "    else:\n",
        "        print(\"You are not eligible to vote.\")\n",
        "voting_eligibility()"
      ],
      "metadata": {
        "colab": {
          "base_uri": "https://localhost:8080/"
        },
        "id": "wvScbIvgZGSa",
        "outputId": "c692d9f9-5ce8-4554-c1a7-311318f9fc06"
      },
      "execution_count": 29,
      "outputs": [
        {
          "output_type": "stream",
          "name": "stdout",
          "text": [
            "Enter your age: 26\n",
            "Do you have Pakistani nationality? (yes/no): yes\n",
            "You are eligible to vote.\n"
          ]
        }
      ]
    },
    {
      "cell_type": "code",
      "source": [
        "def age_category():\n",
        "    age = int(input(\"Enter your age: \"))\n",
        "    if 0 <= age <= 12:\n",
        "        print(\"You are a child.\")\n",
        "    elif 13 <= age <= 19:\n",
        "        print(\"You are a teenager.\")\n",
        "    elif 20 <= age <= 59:\n",
        "        print(\"You are an adult.\")\n",
        "    elif age >= 60:\n",
        "        print(\"You are a senior citizen.\")\n",
        "    else:\n",
        "        print(\"Invalid age entered.\")\n",
        "age_category()"
      ],
      "metadata": {
        "colab": {
          "base_uri": "https://localhost:8080/"
        },
        "id": "GgMKVpsAZG6p",
        "outputId": "49ff1b3c-253b-4a61-8f65-aa47942d276c"
      },
      "execution_count": 28,
      "outputs": [
        {
          "output_type": "stream",
          "name": "stdout",
          "text": [
            "Enter your age: 12\n",
            "You are a child.\n"
          ]
        }
      ]
    },
    {
      "cell_type": "code",
      "source": [
        "def days_in_month():\n",
        "    month = int(input(\"Enter a month number (1-12): \"))\n",
        "    if month in [1, 3, 5, 7, 8, 10, 12]:\n",
        "        print(\"31 days.\")\n",
        "    elif month in [4, 6, 9, 11]:\n",
        "        print(\"30 days.\")\n",
        "    elif month == 2:\n",
        "        print(\"28 days (assuming a non-leap year).\")\n",
        "    else:\n",
        "        print(\"Invalid month.\")\n",
        "days_in_month()"
      ],
      "metadata": {
        "colab": {
          "base_uri": "https://localhost:8080/"
        },
        "id": "VZmD0crwZxEP",
        "outputId": "2a5f7c50-70f8-4554-efdc-90c1a6a86678"
      },
      "execution_count": 31,
      "outputs": [
        {
          "output_type": "stream",
          "name": "stdout",
          "text": [
            "Enter a month number (1-12): 12\n",
            "31 days.\n"
          ]
        }
      ]
    },
    {
      "cell_type": "code",
      "source": [
        "def leap_year_check():\n",
        "    year = int(input(\"Enter a year: \"))\n",
        "    if (year % 4 == 0 and year % 100 != 0) or (year % 400 == 0):\n",
        "        print(f\"{year} is a leap year.\")\n",
        "    else:\n",
        "        print(f\"{year} is not a leap year.\")\n",
        "leap_year_check()"
      ],
      "metadata": {
        "colab": {
          "base_uri": "https://localhost:8080/"
        },
        "id": "DVfV1yPLZz2r",
        "outputId": "3421e3c4-ac29-4489-9960-5d7a267b13af"
      },
      "execution_count": 32,
      "outputs": [
        {
          "output_type": "stream",
          "name": "stdout",
          "text": [
            "Enter a year: 12\n",
            "12 is a leap year.\n"
          ]
        }
      ]
    },
    {
      "cell_type": "code",
      "source": [
        "def electricity_bill():\n",
        "    units = float(input(\"Enter the number of units consumed: \"))\n",
        "    tax = 0\n",
        "    if units > 500:\n",
        "        tax = 0.25\n",
        "    elif units > 200:\n",
        "        tax = 0.15\n",
        "    elif units > 100:\n",
        "        tax = 0.10\n",
        "\n",
        "    total_bill = units + (units * tax)\n",
        "    print(f\"Your total bill with tax is: {total_bill}\")\n",
        "electricity_bill()"
      ],
      "metadata": {
        "colab": {
          "base_uri": "https://localhost:8080/"
        },
        "id": "p9JTpe96Z3sI",
        "outputId": "e5698595-6696-4cc3-f1b6-a45642469452"
      },
      "execution_count": 33,
      "outputs": [
        {
          "output_type": "stream",
          "name": "stdout",
          "text": [
            "Enter the number of units consumed: 900\n",
            "Your total bill with tax is: 1125.0\n"
          ]
        }
      ]
    },
    {
      "cell_type": "code",
      "source": [
        "def student_grades():\n",
        "    percentage = float(input(\"Enter the student's percentage: \"))\n",
        "    if percentage >= 80:\n",
        "        print(\"Grade: A\")\n",
        "    elif percentage >= 70:\n",
        "        print(\"Grade: B\")\n",
        "    elif percentage >= 60:\n",
        "        print(\"Grade: C\")\n",
        "    elif percentage >= 50:\n",
        "        print(\"Grade: D\")\n",
        "    else:\n",
        "        print(\"Grade: F\")\n",
        "student_grades()"
      ],
      "metadata": {
        "colab": {
          "base_uri": "https://localhost:8080/"
        },
        "id": "7VhQkq1MaIlv",
        "outputId": "ad435cba-51c4-4635-c978-8b51b05be000"
      },
      "execution_count": 35,
      "outputs": [
        {
          "output_type": "stream",
          "name": "stdout",
          "text": [
            "Enter the student's percentage: 71\n",
            "Grade: B\n"
          ]
        }
      ]
    },
    {
      "cell_type": "code",
      "execution_count": 36,
      "metadata": {
        "colab": {
          "base_uri": "https://localhost:8080/",
          "height": 720
        },
        "id": "PpJHtWBdZBIl",
        "outputId": "417a9c88-c52e-405e-cd05-73f86e6c84d7"
      },
      "outputs": [
        {
          "output_type": "stream",
          "name": "stdout",
          "text": [
            "\n",
            "--- ATM Menu ---\n",
            "1. Check Balance\n",
            "2. Withdraw Money\n",
            "3. Deposit Money\n",
            "4. Exit\n",
            "Enter your choice: 1\n",
            "Your current balance is: 10000\n",
            "\n",
            "--- ATM Menu ---\n",
            "1. Check Balance\n",
            "2. Withdraw Money\n",
            "3. Deposit Money\n",
            "4. Exit\n",
            "Enter your choice: 2\n",
            "Enter amount to withdraw: 1200\n",
            "Withdrawal successful! New balance: 8800.0\n",
            "\n",
            "--- ATM Menu ---\n",
            "1. Check Balance\n",
            "2. Withdraw Money\n",
            "3. Deposit Money\n",
            "4. Exit\n"
          ]
        },
        {
          "output_type": "error",
          "ename": "KeyboardInterrupt",
          "evalue": "Interrupted by user",
          "traceback": [
            "\u001b[0;31m---------------------------------------------------------------------------\u001b[0m",
            "\u001b[0;31mKeyboardInterrupt\u001b[0m                         Traceback (most recent call last)",
            "\u001b[0;32m<ipython-input-36-3f02bba92278>\u001b[0m in \u001b[0;36m<cell line: 32>\u001b[0;34m()\u001b[0m\n\u001b[1;32m     30\u001b[0m \u001b[0;34m\u001b[0m\u001b[0m\n\u001b[1;32m     31\u001b[0m \u001b[0;31m# Run functions here\u001b[0m\u001b[0;34m\u001b[0m\u001b[0;34m\u001b[0m\u001b[0m\n\u001b[0;32m---> 32\u001b[0;31m \u001b[0matm_project\u001b[0m\u001b[0;34m(\u001b[0m\u001b[0;34m)\u001b[0m\u001b[0;34m\u001b[0m\u001b[0;34m\u001b[0m\u001b[0m\n\u001b[0m",
            "\u001b[0;32m<ipython-input-36-3f02bba92278>\u001b[0m in \u001b[0;36matm_project\u001b[0;34m()\u001b[0m\n\u001b[1;32m      8\u001b[0m         \u001b[0mprint\u001b[0m\u001b[0;34m(\u001b[0m\u001b[0;34m\"4. Exit\"\u001b[0m\u001b[0;34m)\u001b[0m\u001b[0;34m\u001b[0m\u001b[0;34m\u001b[0m\u001b[0m\n\u001b[1;32m      9\u001b[0m \u001b[0;34m\u001b[0m\u001b[0m\n\u001b[0;32m---> 10\u001b[0;31m         \u001b[0mchoice\u001b[0m \u001b[0;34m=\u001b[0m \u001b[0mint\u001b[0m\u001b[0;34m(\u001b[0m\u001b[0minput\u001b[0m\u001b[0;34m(\u001b[0m\u001b[0;34m\"Enter your choice: \"\u001b[0m\u001b[0;34m)\u001b[0m\u001b[0;34m)\u001b[0m\u001b[0;34m\u001b[0m\u001b[0;34m\u001b[0m\u001b[0m\n\u001b[0m\u001b[1;32m     11\u001b[0m \u001b[0;34m\u001b[0m\u001b[0m\n\u001b[1;32m     12\u001b[0m         \u001b[0;32mif\u001b[0m \u001b[0mchoice\u001b[0m \u001b[0;34m==\u001b[0m \u001b[0;36m1\u001b[0m\u001b[0;34m:\u001b[0m\u001b[0;34m\u001b[0m\u001b[0;34m\u001b[0m\u001b[0m\n",
            "\u001b[0;32m/usr/local/lib/python3.10/dist-packages/ipykernel/kernelbase.py\u001b[0m in \u001b[0;36mraw_input\u001b[0;34m(self, prompt)\u001b[0m\n\u001b[1;32m    849\u001b[0m                 \u001b[0;34m\"raw_input was called, but this frontend does not support input requests.\"\u001b[0m\u001b[0;34m\u001b[0m\u001b[0;34m\u001b[0m\u001b[0m\n\u001b[1;32m    850\u001b[0m             )\n\u001b[0;32m--> 851\u001b[0;31m         return self._input_request(str(prompt),\n\u001b[0m\u001b[1;32m    852\u001b[0m             \u001b[0mself\u001b[0m\u001b[0;34m.\u001b[0m\u001b[0m_parent_ident\u001b[0m\u001b[0;34m,\u001b[0m\u001b[0;34m\u001b[0m\u001b[0;34m\u001b[0m\u001b[0m\n\u001b[1;32m    853\u001b[0m             \u001b[0mself\u001b[0m\u001b[0;34m.\u001b[0m\u001b[0m_parent_header\u001b[0m\u001b[0;34m,\u001b[0m\u001b[0;34m\u001b[0m\u001b[0;34m\u001b[0m\u001b[0m\n",
            "\u001b[0;32m/usr/local/lib/python3.10/dist-packages/ipykernel/kernelbase.py\u001b[0m in \u001b[0;36m_input_request\u001b[0;34m(self, prompt, ident, parent, password)\u001b[0m\n\u001b[1;32m    893\u001b[0m             \u001b[0;32mexcept\u001b[0m \u001b[0mKeyboardInterrupt\u001b[0m\u001b[0;34m:\u001b[0m\u001b[0;34m\u001b[0m\u001b[0;34m\u001b[0m\u001b[0m\n\u001b[1;32m    894\u001b[0m                 \u001b[0;31m# re-raise KeyboardInterrupt, to truncate traceback\u001b[0m\u001b[0;34m\u001b[0m\u001b[0;34m\u001b[0m\u001b[0m\n\u001b[0;32m--> 895\u001b[0;31m                 \u001b[0;32mraise\u001b[0m \u001b[0mKeyboardInterrupt\u001b[0m\u001b[0;34m(\u001b[0m\u001b[0;34m\"Interrupted by user\"\u001b[0m\u001b[0;34m)\u001b[0m \u001b[0;32mfrom\u001b[0m \u001b[0;32mNone\u001b[0m\u001b[0;34m\u001b[0m\u001b[0;34m\u001b[0m\u001b[0m\n\u001b[0m\u001b[1;32m    896\u001b[0m             \u001b[0;32mexcept\u001b[0m \u001b[0mException\u001b[0m \u001b[0;32mas\u001b[0m \u001b[0me\u001b[0m\u001b[0;34m:\u001b[0m\u001b[0;34m\u001b[0m\u001b[0;34m\u001b[0m\u001b[0m\n\u001b[1;32m    897\u001b[0m                 \u001b[0mself\u001b[0m\u001b[0;34m.\u001b[0m\u001b[0mlog\u001b[0m\u001b[0;34m.\u001b[0m\u001b[0mwarning\u001b[0m\u001b[0;34m(\u001b[0m\u001b[0;34m\"Invalid Message:\"\u001b[0m\u001b[0;34m,\u001b[0m \u001b[0mexc_info\u001b[0m\u001b[0;34m=\u001b[0m\u001b[0;32mTrue\u001b[0m\u001b[0;34m)\u001b[0m\u001b[0;34m\u001b[0m\u001b[0;34m\u001b[0m\u001b[0m\n",
            "\u001b[0;31mKeyboardInterrupt\u001b[0m: Interrupted by user"
          ]
        }
      ],
      "source": [
        "def atm_project():\n",
        "    balance = 10000\n",
        "    while True:\n",
        "        print(\"\\n--- ATM Menu ---\")\n",
        "        print(\"1. Check Balance\")\n",
        "        print(\"2. Withdraw Money\")\n",
        "        print(\"3. Deposit Money\")\n",
        "        print(\"4. Exit\")\n",
        "\n",
        "        choice = int(input(\"Enter your choice: \"))\n",
        "\n",
        "        if choice == 1:\n",
        "            print(f\"Your current balance is: {balance}\")\n",
        "        elif choice == 2:\n",
        "            amount = float(input(\"Enter amount to withdraw: \"))\n",
        "            if amount <= balance:\n",
        "                balance -= amount\n",
        "                print(f\"Withdrawal successful! New balance: {balance}\")\n",
        "            else:\n",
        "                print(\"Insufficient balance.\")\n",
        "        elif choice == 3:\n",
        "            amount = float(input(\"Enter amount to deposit: \"))\n",
        "            balance += amount\n",
        "            print(f\"Deposit successful! New balance: {balance}\")\n",
        "        elif choice == 4:\n",
        "            print(\"Exiting ATM. Thank you!\")\n",
        "            break\n",
        "        else:\n",
        "            print(\"Invalid choice. Try again.\")\n",
        "\n",
        "# Run functions here\n",
        "atm_project()\n"
      ]
    },
    {
      "cell_type": "code",
      "source": [],
      "metadata": {
        "id": "UqxBfqvZaLwt"
      },
      "execution_count": null,
      "outputs": []
    }
  ]
}